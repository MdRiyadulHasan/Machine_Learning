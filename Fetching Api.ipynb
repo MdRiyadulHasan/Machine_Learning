{
 "cells": [
  {
   "cell_type": "code",
   "execution_count": 1,
   "id": "17660c4d",
   "metadata": {},
   "outputs": [],
   "source": [
    "import requests\n",
    "url = \"https://randomuser.me/api\""
   ]
  },
  {
   "cell_type": "code",
   "execution_count": 2,
   "id": "013c927f",
   "metadata": {},
   "outputs": [],
   "source": [
    "response = requests.get(url).json()"
   ]
  },
  {
   "cell_type": "code",
   "execution_count": 3,
   "id": "0816fa92",
   "metadata": {},
   "outputs": [
    {
     "name": "stdout",
     "output_type": "stream",
     "text": [
      "{'results': [{'gender': 'female', 'name': {'title': 'Mrs', 'first': 'Cherly', 'last': 'Cook'}, 'location': {'street': {'number': 8601, 'name': 'Smokey Ln'}, 'city': 'Launceston', 'state': 'Northern Territory', 'country': 'Australia', 'postcode': 7779, 'coordinates': {'latitude': '-89.2057', 'longitude': '63.8322'}, 'timezone': {'offset': '-11:00', 'description': 'Midway Island, Samoa'}}, 'email': 'cherly.cook@example.com', 'login': {'uuid': '2260dc84-9392-41c9-be70-63123f74b87b', 'username': 'angrygorilla295', 'password': 'isaiah', 'salt': 'nKleWJ85', 'md5': 'b5c6763cfce5ee178b78473792781921', 'sha1': '8efaa97bc92ebbc897991a21f3b94cb7fe3d0d49', 'sha256': 'ad884a37822e342feee6ee2ccb00910fbe4f7e1320da8c1aa14794a2e1398622'}, 'dob': {'date': '1950-07-06T06:09:15.705Z', 'age': 72}, 'registered': {'date': '2005-08-13T01:15:42.624Z', 'age': 17}, 'phone': '09-4265-4730', 'cell': '0472-183-308', 'id': {'name': 'TFN', 'value': '631631540'}, 'picture': {'large': 'https://randomuser.me/api/portraits/women/20.jpg', 'medium': 'https://randomuser.me/api/portraits/med/women/20.jpg', 'thumbnail': 'https://randomuser.me/api/portraits/thumb/women/20.jpg'}, 'nat': 'AU'}], 'info': {'seed': '141402cfdd4d9daf', 'results': 1, 'page': 1, 'version': '1.4'}}\n"
     ]
    }
   ],
   "source": [
    "print(response)"
   ]
  },
  {
   "cell_type": "code",
   "execution_count": 4,
   "id": "8aae3ef9",
   "metadata": {},
   "outputs": [
    {
     "name": "stdout",
     "output_type": "stream",
     "text": [
      "female\n",
      "{'title': 'Mrs', 'first': 'Cherly', 'last': 'Cook'}\n"
     ]
    }
   ],
   "source": [
    "gender = response['results'][0]['gender']\n",
    "name = response['results'][0]['name']\n",
    "print(gender)\n",
    "print(name)"
   ]
  },
  {
   "cell_type": "code",
   "execution_count": 5,
   "id": "3f85c593",
   "metadata": {},
   "outputs": [],
   "source": [
    "url = \"https://nominatim.openstreetmap.org/reverse?format=json&lat=23.520&lon=89.35&addressdetails=1\""
   ]
  },
  {
   "cell_type": "code",
   "execution_count": 6,
   "id": "29723724",
   "metadata": {},
   "outputs": [],
   "source": [
    "response = requests.get(url).json()"
   ]
  },
  {
   "cell_type": "code",
   "execution_count": 7,
   "id": "704230dd",
   "metadata": {},
   "outputs": [
    {
     "name": "stdout",
     "output_type": "stream",
     "text": [
      "{'place_id': 225078657, 'licence': 'Data © OpenStreetMap contributors, ODbL 1.0. https://osm.org/copyright', 'osm_type': 'way', 'osm_id': 550201055, 'lat': '23.5215924', 'lon': '89.3451709', 'display_name': 'Hazrapur, মাগুরা সদর উপজেলা, মাগুরা জেলা, খুলনা বিভাগ, বাংলাদেশ', 'address': {'village': 'Hazrapur', 'county': 'মাগুরা সদর উপজেলা', 'state_district': 'মাগুরা জেলা', 'state': 'খুলনা বিভাগ', 'ISO3166-2-lvl4': 'BD-D', 'country': 'বাংলাদেশ', 'country_code': 'bd'}, 'boundingbox': ['23.5093649', '23.5361509', '89.3373581', '89.3664837']}\n"
     ]
    }
   ],
   "source": [
    "print(response)"
   ]
  },
  {
   "cell_type": "code",
   "execution_count": 8,
   "id": "1a93a002",
   "metadata": {},
   "outputs": [
    {
     "name": "stdout",
     "output_type": "stream",
     "text": [
      "Hazrapur\n"
     ]
    }
   ],
   "source": [
    "village = response['address']['village']\n",
    "print(village)"
   ]
  },
  {
   "cell_type": "code",
   "execution_count": 9,
   "id": "2ebb0acd",
   "metadata": {},
   "outputs": [
    {
     "name": "stdout",
     "output_type": "stream",
     "text": [
      "মাগুরা সদর উপজেলা\n"
     ]
    }
   ],
   "source": [
    "Thana = response['address']['county']\n",
    "print(Thana)"
   ]
  },
  {
   "cell_type": "code",
   "execution_count": 10,
   "id": "746440fc",
   "metadata": {},
   "outputs": [
    {
     "name": "stdout",
     "output_type": "stream",
     "text": [
      "Hazrapur, মাগুরা সদর উপজেলা, মাগুরা জেলা, খুলনা বিভাগ, বাংলাদেশ\n"
     ]
    }
   ],
   "source": [
    "address = response['display_name']\n",
    "print(address)"
   ]
  }
 ],
 "metadata": {
  "kernelspec": {
   "display_name": "Python 3 (ipykernel)",
   "language": "python",
   "name": "python3"
  },
  "language_info": {
   "codemirror_mode": {
    "name": "ipython",
    "version": 3
   },
   "file_extension": ".py",
   "mimetype": "text/x-python",
   "name": "python",
   "nbconvert_exporter": "python",
   "pygments_lexer": "ipython3",
   "version": "3.10.9"
  }
 },
 "nbformat": 4,
 "nbformat_minor": 5
}
