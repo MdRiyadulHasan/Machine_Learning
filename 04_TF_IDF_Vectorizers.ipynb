{
 "cells": [
  {
   "cell_type": "code",
   "execution_count": 1,
   "id": "22d753fe",
   "metadata": {},
   "outputs": [],
   "source": [
    "import pandas as pd"
   ]
  },
  {
   "cell_type": "code",
   "execution_count": 2,
   "id": "43767db3",
   "metadata": {},
   "outputs": [],
   "source": [
    "import numpy as np"
   ]
  },
  {
   "cell_type": "code",
   "execution_count": 3,
   "id": "5372d8dc",
   "metadata": {},
   "outputs": [],
   "source": [
    "text1 ='''Tracy loves writing about data science.'''"
   ]
  },
  {
   "cell_type": "code",
   "execution_count": 4,
   "id": "e69baa67",
   "metadata": {},
   "outputs": [],
   "source": [
    "text2 = '''Tracy loves writing for medium publications.'''     "
   ]
  },
  {
   "cell_type": "code",
   "execution_count": 5,
   "id": "f97e4a63",
   "metadata": {},
   "outputs": [],
   "source": [
    "text3 = '''Tracy loves studying Python programming.'''"
   ]
  },
  {
   "cell_type": "code",
   "execution_count": 6,
   "id": "edd8da05",
   "metadata": {},
   "outputs": [],
   "source": [
    "text4 = '''Tracy loves entering Kaggle competitions.'''"
   ]
  },
  {
   "cell_type": "code",
   "execution_count": 8,
   "id": "500b6cf6",
   "metadata": {},
   "outputs": [
    {
     "data": {
      "text/plain": [
       "['Tracy loves writing about data science.',\n",
       " 'Tracy loves writing for medium publications.',\n",
       " 'Tracy loves studying Python programming.',\n",
       " 'Tracy loves entering Kaggle competitions.']"
      ]
     },
     "execution_count": 8,
     "metadata": {},
     "output_type": "execute_result"
    }
   ],
   "source": [
    "corpus = [text1, text2, text3, text4]\n",
    "corpus\n"
   ]
  },
  {
   "cell_type": "code",
   "execution_count": 9,
   "id": "96f4d0a4",
   "metadata": {},
   "outputs": [],
   "source": [
    "from sklearn.feature_extraction.text import CountVectorizer"
   ]
  },
  {
   "cell_type": "code",
   "execution_count": 10,
   "id": "d601ca26",
   "metadata": {},
   "outputs": [],
   "source": [
    "count_vec = CountVectorizer()"
   ]
  },
  {
   "cell_type": "code",
   "execution_count": 11,
   "id": "466de18d",
   "metadata": {},
   "outputs": [
    {
     "data": {
      "text/plain": [
       "(4, 15)"
      ]
     },
     "execution_count": 11,
     "metadata": {},
     "output_type": "execute_result"
    }
   ],
   "source": [
    "word_count_vec = count_vec.fit_transform(corpus)\n",
    "word_count_vec.shape"
   ]
  },
  {
   "cell_type": "code",
   "execution_count": 12,
   "id": "69fcf33d",
   "metadata": {},
   "outputs": [
    {
     "name": "stdout",
     "output_type": "stream",
     "text": [
      "['about', 'competitions', 'data', 'entering', 'for', 'kaggle', 'loves', 'medium', 'programming', 'publications', 'python', 'science', 'studying', 'tracy', 'writing']\n"
     ]
    },
    {
     "name": "stderr",
     "output_type": "stream",
     "text": [
      "C:\\Users\\User\\AppData\\Roaming\\Python\\Python310\\site-packages\\sklearn\\utils\\deprecation.py:87: FutureWarning: Function get_feature_names is deprecated; get_feature_names is deprecated in 1.0 and will be removed in 1.2. Please use get_feature_names_out instead.\n",
      "  warnings.warn(msg, category=FutureWarning)\n"
     ]
    }
   ],
   "source": [
    "print(count_vec.get_feature_names())"
   ]
  },
  {
   "cell_type": "code",
   "execution_count": 13,
   "id": "9ef13686",
   "metadata": {},
   "outputs": [
    {
     "name": "stdout",
     "output_type": "stream",
     "text": [
      "Vocabulary:  {'tracy': 13, 'loves': 6, 'writing': 14, 'about': 0, 'data': 2, 'science': 11, 'for': 4, 'medium': 7, 'publications': 9, 'studying': 12, 'python': 10, 'programming': 8, 'entering': 3, 'kaggle': 5, 'competitions': 1}\n"
     ]
    }
   ],
   "source": [
    "print(\"Vocabulary: \", count_vec.vocabulary_)"
   ]
  },
  {
   "cell_type": "code",
   "execution_count": 14,
   "id": "5fb76c70",
   "metadata": {},
   "outputs": [
    {
     "name": "stdout",
     "output_type": "stream",
     "text": [
      "[[1 0 1 0 0 0 1 0 0 0 0 1 0 1 1]\n",
      " [0 0 0 0 1 0 1 1 0 1 0 0 0 1 1]\n",
      " [0 0 0 0 0 0 1 0 1 0 1 0 1 1 0]\n",
      " [0 1 0 1 0 1 1 0 0 0 0 0 0 1 0]]\n"
     ]
    }
   ],
   "source": [
    "print(word_count_vec.toarray())"
   ]
  },
  {
   "cell_type": "code",
   "execution_count": 15,
   "id": "2159b2e0",
   "metadata": {},
   "outputs": [
    {
     "data": {
      "text/html": [
       "<div>\n",
       "<style scoped>\n",
       "    .dataframe tbody tr th:only-of-type {\n",
       "        vertical-align: middle;\n",
       "    }\n",
       "\n",
       "    .dataframe tbody tr th {\n",
       "        vertical-align: top;\n",
       "    }\n",
       "\n",
       "    .dataframe thead th {\n",
       "        text-align: right;\n",
       "    }\n",
       "</style>\n",
       "<table border=\"1\" class=\"dataframe\">\n",
       "  <thead>\n",
       "    <tr style=\"text-align: right;\">\n",
       "      <th></th>\n",
       "      <th>about</th>\n",
       "      <th>competitions</th>\n",
       "      <th>data</th>\n",
       "      <th>entering</th>\n",
       "      <th>for</th>\n",
       "      <th>kaggle</th>\n",
       "      <th>loves</th>\n",
       "      <th>medium</th>\n",
       "      <th>programming</th>\n",
       "      <th>publications</th>\n",
       "      <th>python</th>\n",
       "      <th>science</th>\n",
       "      <th>studying</th>\n",
       "      <th>tracy</th>\n",
       "      <th>writing</th>\n",
       "    </tr>\n",
       "  </thead>\n",
       "  <tbody>\n",
       "    <tr>\n",
       "      <th>doc1</th>\n",
       "      <td>1</td>\n",
       "      <td>0</td>\n",
       "      <td>1</td>\n",
       "      <td>0</td>\n",
       "      <td>0</td>\n",
       "      <td>0</td>\n",
       "      <td>1</td>\n",
       "      <td>0</td>\n",
       "      <td>0</td>\n",
       "      <td>0</td>\n",
       "      <td>0</td>\n",
       "      <td>1</td>\n",
       "      <td>0</td>\n",
       "      <td>1</td>\n",
       "      <td>1</td>\n",
       "    </tr>\n",
       "    <tr>\n",
       "      <th>doc2</th>\n",
       "      <td>0</td>\n",
       "      <td>0</td>\n",
       "      <td>0</td>\n",
       "      <td>0</td>\n",
       "      <td>1</td>\n",
       "      <td>0</td>\n",
       "      <td>1</td>\n",
       "      <td>1</td>\n",
       "      <td>0</td>\n",
       "      <td>1</td>\n",
       "      <td>0</td>\n",
       "      <td>0</td>\n",
       "      <td>0</td>\n",
       "      <td>1</td>\n",
       "      <td>1</td>\n",
       "    </tr>\n",
       "    <tr>\n",
       "      <th>doc3</th>\n",
       "      <td>0</td>\n",
       "      <td>0</td>\n",
       "      <td>0</td>\n",
       "      <td>0</td>\n",
       "      <td>0</td>\n",
       "      <td>0</td>\n",
       "      <td>1</td>\n",
       "      <td>0</td>\n",
       "      <td>1</td>\n",
       "      <td>0</td>\n",
       "      <td>1</td>\n",
       "      <td>0</td>\n",
       "      <td>1</td>\n",
       "      <td>1</td>\n",
       "      <td>0</td>\n",
       "    </tr>\n",
       "    <tr>\n",
       "      <th>doc4</th>\n",
       "      <td>0</td>\n",
       "      <td>1</td>\n",
       "      <td>0</td>\n",
       "      <td>1</td>\n",
       "      <td>0</td>\n",
       "      <td>1</td>\n",
       "      <td>1</td>\n",
       "      <td>0</td>\n",
       "      <td>0</td>\n",
       "      <td>0</td>\n",
       "      <td>0</td>\n",
       "      <td>0</td>\n",
       "      <td>0</td>\n",
       "      <td>1</td>\n",
       "      <td>0</td>\n",
       "    </tr>\n",
       "  </tbody>\n",
       "</table>\n",
       "</div>"
      ],
      "text/plain": [
       "      about  competitions  data  entering  for  kaggle  loves  medium  \\\n",
       "doc1      1             0     1         0    0       0      1       0   \n",
       "doc2      0             0     0         0    1       0      1       1   \n",
       "doc3      0             0     0         0    0       0      1       0   \n",
       "doc4      0             1     0         1    0       1      1       0   \n",
       "\n",
       "      programming  publications  python  science  studying  tracy  writing  \n",
       "doc1            0             0       0        1         0      1        1  \n",
       "doc2            0             1       0        0         0      1        1  \n",
       "doc3            1             0       1        0         1      1        0  \n",
       "doc4            0             0       0        0         0      1        0  "
      ]
     },
     "execution_count": 15,
     "metadata": {},
     "output_type": "execute_result"
    }
   ],
   "source": [
    "# Use the content column instead of our single text variable\n",
    "matrix = count_vec.fit_transform(corpus)\n",
    "counts = pd.DataFrame(matrix.toarray(), index=['doc1','doc2', 'doc3', 'doc4'],columns=count_vec.get_feature_names())\n",
    "counts\n",
    "     "
   ]
  },
  {
   "cell_type": "markdown",
   "id": "ca6529d7",
   "metadata": {},
   "source": [
    "# TfidfTransformer"
   ]
  },
  {
   "cell_type": "code",
   "execution_count": 16,
   "id": "ef603286",
   "metadata": {},
   "outputs": [
    {
     "data": {
      "text/plain": [
       "(4, 15)"
      ]
     },
     "execution_count": 16,
     "metadata": {},
     "output_type": "execute_result"
    }
   ],
   "source": [
    "from sklearn.feature_extraction.text import TfidfTransformer \n",
    "\n",
    "tf_transformer = TfidfTransformer(use_idf=True).fit(matrix)\n",
    "word_count_vec_tf = tf_transformer.transform(matrix)\n",
    "word_count_vec_tf.shape"
   ]
  },
  {
   "cell_type": "code",
   "execution_count": 17,
   "id": "d69b2e89",
   "metadata": {},
   "outputs": [
    {
     "name": "stderr",
     "output_type": "stream",
     "text": [
      "C:\\Users\\User\\AppData\\Roaming\\Python\\Python310\\site-packages\\sklearn\\utils\\deprecation.py:87: FutureWarning: Function get_feature_names is deprecated; get_feature_names is deprecated in 1.0 and will be removed in 1.2. Please use get_feature_names_out instead.\n",
      "  warnings.warn(msg, category=FutureWarning)\n"
     ]
    },
    {
     "data": {
      "text/html": [
       "<div>\n",
       "<style scoped>\n",
       "    .dataframe tbody tr th:only-of-type {\n",
       "        vertical-align: middle;\n",
       "    }\n",
       "\n",
       "    .dataframe tbody tr th {\n",
       "        vertical-align: top;\n",
       "    }\n",
       "\n",
       "    .dataframe thead th {\n",
       "        text-align: right;\n",
       "    }\n",
       "</style>\n",
       "<table border=\"1\" class=\"dataframe\">\n",
       "  <thead>\n",
       "    <tr style=\"text-align: right;\">\n",
       "      <th></th>\n",
       "      <th>about</th>\n",
       "      <th>competitions</th>\n",
       "      <th>data</th>\n",
       "      <th>entering</th>\n",
       "      <th>for</th>\n",
       "      <th>kaggle</th>\n",
       "      <th>loves</th>\n",
       "      <th>medium</th>\n",
       "      <th>programming</th>\n",
       "      <th>publications</th>\n",
       "      <th>python</th>\n",
       "      <th>science</th>\n",
       "      <th>studying</th>\n",
       "      <th>tracy</th>\n",
       "      <th>writing</th>\n",
       "    </tr>\n",
       "  </thead>\n",
       "  <tbody>\n",
       "    <tr>\n",
       "      <th>doc1</th>\n",
       "      <td>0.489924</td>\n",
       "      <td>0.000000</td>\n",
       "      <td>0.489924</td>\n",
       "      <td>0.000000</td>\n",
       "      <td>0.000000</td>\n",
       "      <td>0.000000</td>\n",
       "      <td>0.255662</td>\n",
       "      <td>0.000000</td>\n",
       "      <td>0.000000</td>\n",
       "      <td>0.000000</td>\n",
       "      <td>0.000000</td>\n",
       "      <td>0.489924</td>\n",
       "      <td>0.000000</td>\n",
       "      <td>0.255662</td>\n",
       "      <td>0.386261</td>\n",
       "    </tr>\n",
       "    <tr>\n",
       "      <th>doc2</th>\n",
       "      <td>0.000000</td>\n",
       "      <td>0.000000</td>\n",
       "      <td>0.000000</td>\n",
       "      <td>0.000000</td>\n",
       "      <td>0.489924</td>\n",
       "      <td>0.000000</td>\n",
       "      <td>0.255662</td>\n",
       "      <td>0.489924</td>\n",
       "      <td>0.000000</td>\n",
       "      <td>0.489924</td>\n",
       "      <td>0.000000</td>\n",
       "      <td>0.000000</td>\n",
       "      <td>0.000000</td>\n",
       "      <td>0.255662</td>\n",
       "      <td>0.386261</td>\n",
       "    </tr>\n",
       "    <tr>\n",
       "      <th>doc3</th>\n",
       "      <td>0.000000</td>\n",
       "      <td>0.000000</td>\n",
       "      <td>0.000000</td>\n",
       "      <td>0.000000</td>\n",
       "      <td>0.000000</td>\n",
       "      <td>0.000000</td>\n",
       "      <td>0.277174</td>\n",
       "      <td>0.000000</td>\n",
       "      <td>0.531146</td>\n",
       "      <td>0.000000</td>\n",
       "      <td>0.531146</td>\n",
       "      <td>0.000000</td>\n",
       "      <td>0.531146</td>\n",
       "      <td>0.277174</td>\n",
       "      <td>0.000000</td>\n",
       "    </tr>\n",
       "    <tr>\n",
       "      <th>doc4</th>\n",
       "      <td>0.000000</td>\n",
       "      <td>0.531146</td>\n",
       "      <td>0.000000</td>\n",
       "      <td>0.531146</td>\n",
       "      <td>0.000000</td>\n",
       "      <td>0.531146</td>\n",
       "      <td>0.277174</td>\n",
       "      <td>0.000000</td>\n",
       "      <td>0.000000</td>\n",
       "      <td>0.000000</td>\n",
       "      <td>0.000000</td>\n",
       "      <td>0.000000</td>\n",
       "      <td>0.000000</td>\n",
       "      <td>0.277174</td>\n",
       "      <td>0.000000</td>\n",
       "    </tr>\n",
       "  </tbody>\n",
       "</table>\n",
       "</div>"
      ],
      "text/plain": [
       "         about  competitions      data  entering       for    kaggle  \\\n",
       "doc1  0.489924      0.000000  0.489924  0.000000  0.000000  0.000000   \n",
       "doc2  0.000000      0.000000  0.000000  0.000000  0.489924  0.000000   \n",
       "doc3  0.000000      0.000000  0.000000  0.000000  0.000000  0.000000   \n",
       "doc4  0.000000      0.531146  0.000000  0.531146  0.000000  0.531146   \n",
       "\n",
       "         loves    medium  programming  publications    python   science  \\\n",
       "doc1  0.255662  0.000000     0.000000      0.000000  0.000000  0.489924   \n",
       "doc2  0.255662  0.489924     0.000000      0.489924  0.000000  0.000000   \n",
       "doc3  0.277174  0.000000     0.531146      0.000000  0.531146  0.000000   \n",
       "doc4  0.277174  0.000000     0.000000      0.000000  0.000000  0.000000   \n",
       "\n",
       "      studying     tracy   writing  \n",
       "doc1  0.000000  0.255662  0.386261  \n",
       "doc2  0.000000  0.255662  0.386261  \n",
       "doc3  0.531146  0.277174  0.000000  \n",
       "doc4  0.000000  0.277174  0.000000  "
      ]
     },
     "execution_count": 17,
     "metadata": {},
     "output_type": "execute_result"
    }
   ],
   "source": [
    "df1 = pd.DataFrame(word_count_vec_tf.toarray(),columns=count_vec.get_feature_names(),index=['doc1','doc2', 'doc3', 'doc4'])\n",
    "df1"
   ]
  },
  {
   "cell_type": "code",
   "execution_count": 18,
   "id": "25026f06",
   "metadata": {},
   "outputs": [
    {
     "data": {
      "text/plain": [
       "array([[1.        , 0.27992449, 0.14172606, 0.14172606]])"
      ]
     },
     "execution_count": 18,
     "metadata": {},
     "output_type": "execute_result"
    }
   ],
   "source": [
    "from sklearn.metrics.pairwise import cosine_similarity\n",
    "\n",
    "cosine_similarity(df1[0:1], df1)"
   ]
  },
  {
   "cell_type": "markdown",
   "id": "3e0428cf",
   "metadata": {},
   "source": [
    "# TfidfVectorizer"
   ]
  },
  {
   "cell_type": "code",
   "execution_count": 22,
   "id": "3a18b726",
   "metadata": {},
   "outputs": [
    {
     "name": "stderr",
     "output_type": "stream",
     "text": [
      "C:\\Users\\User\\AppData\\Roaming\\Python\\Python310\\site-packages\\sklearn\\utils\\deprecation.py:87: FutureWarning: Function get_feature_names is deprecated; get_feature_names is deprecated in 1.0 and will be removed in 1.2. Please use get_feature_names_out instead.\n",
      "  warnings.warn(msg, category=FutureWarning)\n"
     ]
    },
    {
     "data": {
      "text/html": [
       "<div>\n",
       "<style scoped>\n",
       "    .dataframe tbody tr th:only-of-type {\n",
       "        vertical-align: middle;\n",
       "    }\n",
       "\n",
       "    .dataframe tbody tr th {\n",
       "        vertical-align: top;\n",
       "    }\n",
       "\n",
       "    .dataframe thead th {\n",
       "        text-align: right;\n",
       "    }\n",
       "</style>\n",
       "<table border=\"1\" class=\"dataframe\">\n",
       "  <thead>\n",
       "    <tr style=\"text-align: right;\">\n",
       "      <th></th>\n",
       "      <th>about</th>\n",
       "      <th>competitions</th>\n",
       "      <th>data</th>\n",
       "      <th>entering</th>\n",
       "      <th>for</th>\n",
       "      <th>kaggle</th>\n",
       "      <th>loves</th>\n",
       "      <th>medium</th>\n",
       "      <th>programming</th>\n",
       "      <th>publications</th>\n",
       "      <th>python</th>\n",
       "      <th>science</th>\n",
       "      <th>studying</th>\n",
       "      <th>tracy</th>\n",
       "      <th>writing</th>\n",
       "    </tr>\n",
       "  </thead>\n",
       "  <tbody>\n",
       "    <tr>\n",
       "      <th>doc1</th>\n",
       "      <td>0.489924</td>\n",
       "      <td>0.000000</td>\n",
       "      <td>0.489924</td>\n",
       "      <td>0.000000</td>\n",
       "      <td>0.000000</td>\n",
       "      <td>0.000000</td>\n",
       "      <td>0.255662</td>\n",
       "      <td>0.000000</td>\n",
       "      <td>0.000000</td>\n",
       "      <td>0.000000</td>\n",
       "      <td>0.000000</td>\n",
       "      <td>0.489924</td>\n",
       "      <td>0.000000</td>\n",
       "      <td>0.255662</td>\n",
       "      <td>0.386261</td>\n",
       "    </tr>\n",
       "    <tr>\n",
       "      <th>doc2</th>\n",
       "      <td>0.000000</td>\n",
       "      <td>0.000000</td>\n",
       "      <td>0.000000</td>\n",
       "      <td>0.000000</td>\n",
       "      <td>0.489924</td>\n",
       "      <td>0.000000</td>\n",
       "      <td>0.255662</td>\n",
       "      <td>0.489924</td>\n",
       "      <td>0.000000</td>\n",
       "      <td>0.489924</td>\n",
       "      <td>0.000000</td>\n",
       "      <td>0.000000</td>\n",
       "      <td>0.000000</td>\n",
       "      <td>0.255662</td>\n",
       "      <td>0.386261</td>\n",
       "    </tr>\n",
       "    <tr>\n",
       "      <th>doc3</th>\n",
       "      <td>0.000000</td>\n",
       "      <td>0.000000</td>\n",
       "      <td>0.000000</td>\n",
       "      <td>0.000000</td>\n",
       "      <td>0.000000</td>\n",
       "      <td>0.000000</td>\n",
       "      <td>0.277174</td>\n",
       "      <td>0.000000</td>\n",
       "      <td>0.531146</td>\n",
       "      <td>0.000000</td>\n",
       "      <td>0.531146</td>\n",
       "      <td>0.000000</td>\n",
       "      <td>0.531146</td>\n",
       "      <td>0.277174</td>\n",
       "      <td>0.000000</td>\n",
       "    </tr>\n",
       "    <tr>\n",
       "      <th>doc4</th>\n",
       "      <td>0.000000</td>\n",
       "      <td>0.531146</td>\n",
       "      <td>0.000000</td>\n",
       "      <td>0.531146</td>\n",
       "      <td>0.000000</td>\n",
       "      <td>0.531146</td>\n",
       "      <td>0.277174</td>\n",
       "      <td>0.000000</td>\n",
       "      <td>0.000000</td>\n",
       "      <td>0.000000</td>\n",
       "      <td>0.000000</td>\n",
       "      <td>0.000000</td>\n",
       "      <td>0.000000</td>\n",
       "      <td>0.277174</td>\n",
       "      <td>0.000000</td>\n",
       "    </tr>\n",
       "  </tbody>\n",
       "</table>\n",
       "</div>"
      ],
      "text/plain": [
       "         about  competitions      data  entering       for    kaggle  \\\n",
       "doc1  0.489924      0.000000  0.489924  0.000000  0.000000  0.000000   \n",
       "doc2  0.000000      0.000000  0.000000  0.000000  0.489924  0.000000   \n",
       "doc3  0.000000      0.000000  0.000000  0.000000  0.000000  0.000000   \n",
       "doc4  0.000000      0.531146  0.000000  0.531146  0.000000  0.531146   \n",
       "\n",
       "         loves    medium  programming  publications    python   science  \\\n",
       "doc1  0.255662  0.000000     0.000000      0.000000  0.000000  0.489924   \n",
       "doc2  0.255662  0.489924     0.000000      0.489924  0.000000  0.000000   \n",
       "doc3  0.277174  0.000000     0.531146      0.000000  0.531146  0.000000   \n",
       "doc4  0.277174  0.000000     0.000000      0.000000  0.000000  0.000000   \n",
       "\n",
       "      studying     tracy   writing  \n",
       "doc1  0.000000  0.255662  0.386261  \n",
       "doc2  0.000000  0.255662  0.386261  \n",
       "doc3  0.531146  0.277174  0.000000  \n",
       "doc4  0.000000  0.277174  0.000000  "
      ]
     },
     "execution_count": 22,
     "metadata": {},
     "output_type": "execute_result"
    }
   ],
   "source": [
    "from sklearn.feature_extraction.text import TfidfVectorizer\n",
    "\n",
    "vectorizer = TfidfVectorizer()\n",
    "trsfm=vectorizer.fit_transform(corpus)\n",
    "data = pd.DataFrame(trsfm.toarray(),columns=vectorizer.get_feature_names(),index=['doc1','doc2', 'doc3', 'doc4'])\n",
    "data"
   ]
  },
  {
   "cell_type": "code",
   "execution_count": 25,
   "id": "8e0ac629",
   "metadata": {},
   "outputs": [
    {
     "data": {
      "text/plain": [
       "array([[1.        , 0.27992449, 0.14172606, 0.14172606]])"
      ]
     },
     "execution_count": 25,
     "metadata": {},
     "output_type": "execute_result"
    }
   ],
   "source": [
    "from sklearn.metrics.pairwise import cosine_similarity\n",
    "\n",
    "cosine_similarity(data[0:1], data)"
   ]
  }
 ],
 "metadata": {
  "kernelspec": {
   "display_name": "Python 3 (ipykernel)",
   "language": "python",
   "name": "python3"
  },
  "language_info": {
   "codemirror_mode": {
    "name": "ipython",
    "version": 3
   },
   "file_extension": ".py",
   "mimetype": "text/x-python",
   "name": "python",
   "nbconvert_exporter": "python",
   "pygments_lexer": "ipython3",
   "version": "3.10.9"
  }
 },
 "nbformat": 4,
 "nbformat_minor": 5
}
